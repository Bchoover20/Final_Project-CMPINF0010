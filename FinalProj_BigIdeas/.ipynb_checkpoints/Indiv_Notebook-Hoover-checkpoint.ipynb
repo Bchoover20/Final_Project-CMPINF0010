{
 "cells": [
  {
   "cell_type": "markdown",
   "id": "41aad921-b416-408d-ada3-751b757b6be5",
   "metadata": {},
   "source": [
    "# Final Project - Individual\n",
    "## Brandon Hoover\n",
    "#### Data Set - CrimeData & 2020 Census Population\n",
    "\n",
    "Links to Datasets: \n",
    "\n",
    "Arrest Data: https://data.wprdc.org/dataset/arrest-data/resource/e03a89dd-134a-4ee8-a2bd-62c40aeebc6f\n",
    "\n",
    "Neighborhood Population: https://data.wprdc.org/dataset/2020-census-redistricting-data-extracts/resource/a8414ed5-c50f-417e-bb67-82b734660da6\n",
    "\n",
    "\n",
    "#### SubMetric - CrimeRate\n",
    "\n",
    "Theory: It is known that a neighborhood with a low crime rate is more favorable than a neighborhood with a high crime rate. Under that assumption when evalutating the best neighborhood we chose to incorporate the rate of crimes per capita for every neighborhood in Pittsburgh. To accomplish this goal we are using two datasets, Pittsburgh Arrest Data and 2020 Census Data to gather two pieces of information which are the number of arrests and total population of each neighborhood. \n",
    "\n",
    "The reason for requiring both pieces of information is that while Southside might initally appear to have a higher Crimerate than Bloomfield, its relative to the amount of people living there since an increase in population enevitably leads to more arrests. So to balance the data we are going to be dividing the *number of arrests* by the *total population* of each respective neighborhood with the result being our submetric we are going to aptly named **CrimeRate**.\n",
    "\n",
    "\n",
    "Implementation:\n",
    "\n",
    "\n"
   ]
  },
  {
   "cell_type": "code",
   "execution_count": 32,
   "id": "c9405cb3-1302-4f73-96b5-6da70d1b0060",
   "metadata": {},
   "outputs": [
    {
     "ename": "FileNotFoundError",
     "evalue": "[Errno 2] No such file or directory: 'Neighborhood.txt'",
     "output_type": "error",
     "traceback": [
      "\u001b[1;31m---------------------------------------------------------------------------\u001b[0m",
      "\u001b[1;31mFileNotFoundError\u001b[0m                         Traceback (most recent call last)",
      "Cell \u001b[1;32mIn[32], line 29\u001b[0m\n\u001b[0;32m     22\u001b[0m \u001b[38;5;66;03m# what is endpoints versus straight query \u001b[39;00m\n\u001b[0;32m     23\u001b[0m \u001b[38;5;66;03m# the query, going for sum of arrests so aggregate function SUM()\u001b[39;00m\n\u001b[0;32m     24\u001b[0m \u001b[38;5;66;03m# \"{}\" for variables but I want it from every neighborhood so loop and then my own data frame \u001b[39;00m\n\u001b[0;32m     25\u001b[0m \n\u001b[0;32m     26\u001b[0m \u001b[38;5;66;03m# num Pitt neighborhoods - 103 from wikipedia\u001b[39;00m\n\u001b[0;32m     27\u001b[0m \u001b[38;5;28mrange\u001b[39m \u001b[38;5;241m=\u001b[39m \u001b[38;5;241m103\u001b[39m\n\u001b[1;32m---> 29\u001b[0m file \u001b[38;5;241m=\u001b[39m \u001b[38;5;28;43mopen\u001b[39;49m\u001b[43m(\u001b[49m\u001b[38;5;124;43m\"\u001b[39;49m\u001b[38;5;124;43mNeighborhood.txt\u001b[39;49m\u001b[38;5;124;43m\"\u001b[39;49m\u001b[43m,\u001b[49m\u001b[43m \u001b[49m\u001b[38;5;124;43m\"\u001b[39;49m\u001b[38;5;124;43mr\u001b[39;49m\u001b[38;5;124;43m\"\u001b[39;49m\u001b[43m)\u001b[49m \n\u001b[0;32m     31\u001b[0m \u001b[38;5;28;01mfor\u001b[39;00m i \u001b[38;5;129;01min\u001b[39;00m \u001b[38;5;28mrange\u001b[39m:\n\u001b[0;32m     32\u001b[0m \n\u001b[0;32m     33\u001b[0m     \u001b[38;5;66;03m# read in a neighborhood - might have \\n (check)\u001b[39;00m\n\u001b[0;32m     34\u001b[0m     neighborhood \u001b[38;5;241m=\u001b[39m file\u001b[38;5;241m.\u001b[39mreadline()\n",
      "File \u001b[1;32m~\\AppData\\Roaming\\Python\\Python312\\site-packages\\IPython\\core\\interactiveshell.py:324\u001b[0m, in \u001b[0;36m_modified_open\u001b[1;34m(file, *args, **kwargs)\u001b[0m\n\u001b[0;32m    317\u001b[0m \u001b[38;5;28;01mif\u001b[39;00m file \u001b[38;5;129;01min\u001b[39;00m {\u001b[38;5;241m0\u001b[39m, \u001b[38;5;241m1\u001b[39m, \u001b[38;5;241m2\u001b[39m}:\n\u001b[0;32m    318\u001b[0m     \u001b[38;5;28;01mraise\u001b[39;00m \u001b[38;5;167;01mValueError\u001b[39;00m(\n\u001b[0;32m    319\u001b[0m         \u001b[38;5;124mf\u001b[39m\u001b[38;5;124m\"\u001b[39m\u001b[38;5;124mIPython won\u001b[39m\u001b[38;5;124m'\u001b[39m\u001b[38;5;124mt let you open fd=\u001b[39m\u001b[38;5;132;01m{\u001b[39;00mfile\u001b[38;5;132;01m}\u001b[39;00m\u001b[38;5;124m by default \u001b[39m\u001b[38;5;124m\"\u001b[39m\n\u001b[0;32m    320\u001b[0m         \u001b[38;5;124m\"\u001b[39m\u001b[38;5;124mas it is likely to crash IPython. If you know what you are doing, \u001b[39m\u001b[38;5;124m\"\u001b[39m\n\u001b[0;32m    321\u001b[0m         \u001b[38;5;124m\"\u001b[39m\u001b[38;5;124myou can use builtins\u001b[39m\u001b[38;5;124m'\u001b[39m\u001b[38;5;124m open.\u001b[39m\u001b[38;5;124m\"\u001b[39m\n\u001b[0;32m    322\u001b[0m     )\n\u001b[1;32m--> 324\u001b[0m \u001b[38;5;28;01mreturn\u001b[39;00m \u001b[43mio_open\u001b[49m\u001b[43m(\u001b[49m\u001b[43mfile\u001b[49m\u001b[43m,\u001b[49m\u001b[43m \u001b[49m\u001b[38;5;241;43m*\u001b[39;49m\u001b[43margs\u001b[49m\u001b[43m,\u001b[49m\u001b[43m \u001b[49m\u001b[38;5;241;43m*\u001b[39;49m\u001b[38;5;241;43m*\u001b[39;49m\u001b[43mkwargs\u001b[49m\u001b[43m)\u001b[49m\n",
      "\u001b[1;31mFileNotFoundError\u001b[0m: [Errno 2] No such file or directory: 'Neighborhood.txt'"
     ]
    }
   ],
   "source": [
    "\n",
    "import pandas as pd\n",
    "import json\n",
    "from datetime import datetime, timedelta, date\n",
    "import requests\n",
    "\n",
    "\n",
    "# finding number of Arrests - SQL query \n",
    "wprdc_api_endpoint = \"https://data.wprdc.org/api/3/action/datastore_search_sql\"\n",
    "\n",
    "# id of table \n",
    "resource_id = \"e03a89dd-134a-4ee8-a2bd-62c40aeebc6f\"\n",
    "\n",
    "\n",
    "# Get two date endpoints - I want all the data in the table so I picked a range that covers \n",
    "start_date = date(2015, 9, 1)\n",
    "end_date = date(2025, 6, 1)\n",
    "\n",
    "# formatting dates to SQL documentation\n",
    "start_str = start_date.strftime(\"%Y-%m-%d\")\n",
    "end_str = end_date.strftime(\"%Y-%m-%d\")    \n",
    "\n",
    "# what is endpoints versus straight query \n",
    "# the query, going for sum of arrests so aggregate function SUM()\n",
    "# \"{}\" for variables but I want it from every neighborhood so loop and then my own data frame \n",
    "\n",
    "# num Pitt neighborhoods - 103 from wikipedia\n",
    "range = 103\n",
    "\n",
    "file = open(\"Neighborhood.txt\", \"r\") \n",
    "\n",
    "for i in range:\n",
    "\n",
    "    # read in a neighborhood - might have \\n (check)\n",
    "    neighborhood = file.readline()\n",
    "\n",
    "    # AND - all conditions in WHERE must be true\n",
    "    # LIKE - looking for a specified pattern %means any number of chars\n",
    "\n",
    "    # translation \n",
    "    # Select incident_loc from wprdc, where it is between 2015-present, in descending order\n",
    "    query = \"\"\"\n",
    "        SELECT INCIDENTLOCATION, SUM(INCIDENTLOCATION) as count\n",
    "        FROM \"{}\"\n",
    "        WHERE \"INCIDENTLOCATION\" BETWEEN '{}' and '{}'  \n",
    "        ORDER BY DESC\n",
    "        \n",
    "    \"\"\".format(self.resource_id, start_str, end_str)\n",
    "    # get Request, (nested inside URL) \n",
    "    response = requests.get(self.wprdc_api_endpoint, {'sql': query}, verify=False)\n",
    "\n",
    "    # saves response into a data frame (pandas)\n",
    "    df = pd.DataFrame.from_dict(json.loads(response.text)['result']['records'])\n",
    "\n",
    "\n",
    "# dont care about returning anything just need to print the dataframe \n",
    "print(\"result for number of arrests\" + \"\\n\")\n",
    "print(str(df + \"\\n\"))\n",
    "\n",
    "\n",
    "close(file)\n",
    "\n"
   ]
  },
  {
   "cell_type": "code",
   "execution_count": null,
   "id": "f82cf666-bf2c-4005-b22e-ee400f60a957",
   "metadata": {},
   "outputs": [],
   "source": [
    "# finding number of "
   ]
  }
 ],
 "metadata": {
  "kernelspec": {
   "display_name": "Python 3 (ipykernel)",
   "language": "python",
   "name": "python3"
  },
  "language_info": {
   "codemirror_mode": {
    "name": "ipython",
    "version": 3
   },
   "file_extension": ".py",
   "mimetype": "text/x-python",
   "name": "python",
   "nbconvert_exporter": "python",
   "pygments_lexer": "ipython3",
   "version": "3.12.4"
  }
 },
 "nbformat": 4,
 "nbformat_minor": 5
}
