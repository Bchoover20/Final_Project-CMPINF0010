{
 "cells": [
  {
   "cell_type": "markdown",
   "metadata": {},
   "source": [
    "Document / data used: allegheny_pittsburgh_mva_executivesummary\n",
    "Housing Market:\n",
    "We are looking at the housing market in the area of Allegheny County to determine the best neighborhoods. What are we looking for in a decent neighborhood includes housing values, construction stability, owner occupancy, and stress such as vacancies and foreclosures. These elements are to believed to affect value retainability of housing. A house is not just a place to live, it can also be an investment at the same time.  \n",
    "\n",
    "Housing Markets are seperated into nine types of market, in which we only need to look at Types A, B, and C due to the fact that we are looking for the best neighborhoods. Many lower level neighborhoods locate in not very safe areas, hence they are automatically negated. \n",
    "A Markets: Highest housing values, strong new construction, high owner occupancy, minimal distress (e.g., vacancies, foreclosures).<br>\n",
    "B Markets: Elevated housing values, substantial new construction, majority renters, low distress.<br>\n",
    "C Markets: Above-average housing values, average construction, highest owner occupancy, low distress.<br>\n",
    "D Markets: Average values, half-average new construction, majority renters, average foreclosure, low vacant/poor-condition properties.<br>\n",
    "E Markets: Slightly below-average values, little construction, high owner occupancy, above-average vacant land, average foreclosure.<br>\t\n",
    "F Markets: Slightly below-average values, slightly above-average construction, majority owners, high subsidized renters.<br>\n",
    "G Markets: Below-average values, minimal construction, majority owners, above-average foreclosure, high vacant land.<br>\n",
    "H Markets: Well below-average values, minimal construction, even owner/renter split, highest vacant land and foreclosure rates.<br>\n",
    "I Markets: Second lowest values, very low construction, highest subsidized renters, elevated building violations, vacant land, poor-condition properties, foreclosure.<br>\n",
    "J Markets: Lowest values, substantial variability, majority renters, highest poor-condition properties, high building violations, vacant lots, foreclosure.<br>\n",
    "\n"
   ]
  },
  {
   "cell_type": "markdown",
   "metadata": {},
   "source": [
    "![Housing_1](Housing_Market_1.png) \n"
   ]
  },
  {
   "cell_type": "markdown",
   "metadata": {},
   "source": [
    "![Housing_2](Housing_Market_2.jpg) \n"
   ]
  },
  {
   "cell_type": "markdown",
   "metadata": {},
   "source": [
    "In this graph, it is concluded that the types A, B, C areas include Squirrel Hill, East Liberty, Duck Hollow, Strip District, Upper Lawrenceville, Morning Side, HighLand Park, Regent Square. Heidelberg, Bridgeville, Mt. Lebanon, Fox Chapel, O'Hara Township."
   ]
  },
  {
   "cell_type": "markdown",
   "metadata": {},
   "source": [
    "Document / Data used: data-conveniencesupermarkets <br>\n",
    "Score Formua: # Grocery x 3 + # Convenient_Store x 1\n",
    "We found the top 10 neighborhoods that are with either type A, B, or C housing market. Here here is our data visualization.  "
   ]
  },
  {
   "cell_type": "code",
   "execution_count": 8,
   "metadata": {},
   "outputs": [
    {
     "name": "stdout",
     "output_type": "stream",
     "text": [
      "Unique categories in the dataset: ['Convenience Store' 'Supermarket' nan]\n",
      "        Zip  Number of Supermarkets\n",
      "0   15017.0                       3\n",
      "1   15037.0                       1\n",
      "2   15044.0                       3\n",
      "3   15056.0                       1\n",
      "4   15065.0                       2\n",
      "5   15071.0                       1\n",
      "6   15076.0                       1\n",
      "7   15084.0                       2\n",
      "8   15086.0                       1\n",
      "9   15090.0                       4\n",
      "10  15101.0                       2\n",
      "11  15102.0                       3\n",
      "12  15106.0                       3\n",
      "13  15108.0                       3\n",
      "14  15110.0                       1\n",
      "15  15116.0                       2\n",
      "16  15120.0                       3\n",
      "17  15122.0                       7\n",
      "18  15127.0                       1\n",
      "19  15131.0                       1\n",
      "20  15132.0                       6\n",
      "21  15136.0                       1\n",
      "22  15137.0                       3\n",
      "23  15143.0                       1\n",
      "24  15145.0                       1\n",
      "25  15146.0                       8\n",
      "26  15147.0                       4\n",
      "27  15201.0                       1\n",
      "28  15202.0                       1\n",
      "29  15203.0                       2\n",
      "30  15205.0                       6\n",
      "31  15206.0                       4\n",
      "32  15208.0                       1\n",
      "33  15209.0                       1\n",
      "34  15210.0                       4\n",
      "35  15211.0                       1\n",
      "36  15212.0                       3\n",
      "37  15213.0                       3\n",
      "38  15216.0                       2\n",
      "39  15217.0                       4\n",
      "40  15218.0                       1\n",
      "41  15219.0                       1\n",
      "42  15220.0                       2\n",
      "43  15221.0                       3\n",
      "44  15222.0                       4\n",
      "45  15224.0                       3\n",
      "46  15226.0                       2\n",
      "47  15227.0                       5\n",
      "48  15228.0                       2\n",
      "49  15229.0                       2\n",
      "50  15232.0                       1\n",
      "51  15234.0                       1\n",
      "52  15235.0                       5\n",
      "53  15236.0                       4\n",
      "54  15237.0                      10\n",
      "55  15238.0                       3\n",
      "56  15239.0                       1\n",
      "57  15241.0                       2\n",
      "58  15275.0                       2\n"
     ]
    }
   ],
   "source": [
    "import pandas as pd\n",
    "\n",
    "# load dataset\n",
    "file_path = 'data-conveniencesupermarkets.csv'\n",
    "data = pd.read_csv(file_path)\n",
    "\n",
    "# check unique values in the 'Category' column to understand its entries\n",
    "unique_categories = data['Category'].unique()\n",
    "print(\"Unique categories in the dataset:\", unique_categories)\n",
    "\n",
    "# filter for rows with 'Category' indicating 'Supermarket'\n",
    "supermarkets = data[data['Category'] == 'Supermarket']\n",
    "\n",
    "# filter by 'Zip' and count the number of entries\n",
    "supermarket_counts = supermarkets.groupby('Zip').size()\n",
    "\n",
    "# convert the result to a DataFrame for better readability\n",
    "supermarket_counts_df = supermarket_counts.reset_index(name='Number of Supermarkets')\n",
    "\n",
    "# Display the result\n",
    "print(supermarket_counts_df)\n"
   ]
  },
  {
   "cell_type": "code",
   "execution_count": 10,
   "metadata": {},
   "outputs": [
    {
     "name": "stdout",
     "output_type": "stream",
     "text": [
      "Unique categories in the dataset: ['Convenience Store' 'Supermarket' nan]\n",
      "        Zip  Number of Convenience Stores\n",
      "0   15014.0                             2\n",
      "1   15017.0                             6\n",
      "2   15018.0                             1\n",
      "3   15024.0                             4\n",
      "4   15025.0                             5\n",
      "..      ...                           ...\n",
      "82  15238.0                             6\n",
      "83  15239.0                             5\n",
      "84  15241.0                             4\n",
      "85  15282.0                             1\n",
      "86  16046.0                             1\n",
      "\n",
      "[87 rows x 2 columns]\n"
     ]
    }
   ],
   "source": [
    "import pandas as pd\n",
    "\n",
    "file_path = 'data-conveniencesupermarkets.csv'\n",
    "data = pd.read_csv(file_path)\n",
    "\n",
    "unique_categories = data['Category'].unique()\n",
    "print(\"Unique categories in the dataset:\", unique_categories)\n",
    "\n",
    "convenience_stores = data[data['Category'] == 'Convenience Store']\n",
    "\n",
    "convenience_store_counts = convenience_stores.groupby('Zip').size()\n",
    "\n",
    "convenience_store_counts_df = convenience_store_counts.reset_index(name='Number of Convenience Stores')\n",
    "\n",
    "print(convenience_store_counts_df)\n"
   ]
  },
  {
   "cell_type": "markdown",
   "metadata": {},
   "source": [
    "![Grocery_1](Grocery_Convenient_Store_Chart.png);"
   ]
  },
  {
   "cell_type": "markdown",
   "metadata": {},
   "source": [
    "![Grocery_2](Grocery_Convenient_Score.png);"
   ]
  },
  {
   "cell_type": "markdown",
   "metadata": {},
   "source": []
  }
 ],
 "metadata": {
  "kernelspec": {
   "display_name": "cmpinf0010",
   "language": "python",
   "name": "python3"
  },
  "language_info": {
   "codemirror_mode": {
    "name": "ipython",
    "version": 3
   },
   "file_extension": ".py",
   "mimetype": "text/x-python",
   "name": "python",
   "nbconvert_exporter": "python",
   "pygments_lexer": "ipython3",
   "version": "3.12.4"
  }
 },
 "nbformat": 4,
 "nbformat_minor": 2
}
