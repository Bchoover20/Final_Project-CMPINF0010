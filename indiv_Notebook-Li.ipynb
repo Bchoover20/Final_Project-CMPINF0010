{
 "cells": [
  {
   "cell_type": "markdown",
   "metadata": {},
   "source": [
    "Document / data used: allegheny_pittsburgh_mva_executivesummary\n",
    "Housing Market:\n",
    "We are looking at the housing market in the area of Allegheny County to determine the best neighborhoods. What are we looking for in a decent neighborhood includes housing values, construction stability, owner occupancy, and stress such as vacancies and foreclosures. These elements are to believed to affect value retainability of housing. A house is not just a place to live, it can also be an investment at the same time.  \n",
    "\n",
    "Housing Markets are seperated into nine types of market, in which we only need to look at Types A, B, and C due to the fact that we are looking for the best neighborhoods. Many lower level neighborhoods locate in not very safe areas, hence they are automatically negated. \n",
    "A Markets: Highest housing values, strong new construction, high owner occupancy, minimal distress (e.g., vacancies, foreclosures).<br>\n",
    "B Markets: Elevated housing values, substantial new construction, majority renters, low distress.<br>\n",
    "C Markets: Above-average housing values, average construction, highest owner occupancy, low distress.<br>\n",
    "D Markets: Average values, half-average new construction, majority renters, average foreclosure, low vacant/poor-condition properties.<br>\n",
    "E Markets: Slightly below-average values, little construction, high owner occupancy, above-average vacant land, average foreclosure.<br>\t\n",
    "F Markets: Slightly below-average values, slightly above-average construction, majority owners, high subsidized renters.<br>\n",
    "G Markets: Below-average values, minimal construction, majority owners, above-average foreclosure, high vacant land.<br>\n",
    "H Markets: Well below-average values, minimal construction, even owner/renter split, highest vacant land and foreclosure rates.<br>\n",
    "I Markets: Second lowest values, very low construction, highest subsidized renters, elevated building violations, vacant land, poor-condition properties, foreclosure.<br>\n",
    "J Markets: Lowest values, substantial variability, majority renters, highest poor-condition properties, high building violations, vacant lots, foreclosure.<br>\n",
    "\n"
   ]
  },
  {
   "cell_type": "markdown",
   "metadata": {},
   "source": [
    "![Housing_1](Housing_Market_1.png) \n"
   ]
  },
  {
   "cell_type": "markdown",
   "metadata": {},
   "source": [
    "![Housing_2](Housing_Market_2.jpg) \n"
   ]
  },
  {
   "cell_type": "markdown",
   "metadata": {},
   "source": [
    "In this graph, it is concluded that the types A, B, C areas include Squirrel Hill, East Liberty, Duck Hollow, Strip District, Upper Lawrenceville, Morning Side, HighLand Park, Regent Square. Heidelberg, Bridgeville, Mt. Lebanon, Fox Chapel, O'Hara Township."
   ]
  },
  {
   "cell_type": "markdown",
   "metadata": {},
   "source": [
    "Document / Data used: data-conveniencesupermarkets <br>\n",
    "Score Formua: # Grocery x 3 + # Convenient_Store x 1\n",
    "We found the top 10 neighborhoods that are with either type A, B, or C housing market. Here here is our data visualization.  "
   ]
  },
  {
   "cell_type": "markdown",
   "metadata": {},
   "source": [
    "![Grocery_1](Grocery_Convenient_Store_Chart.png);"
   ]
  },
  {
   "cell_type": "markdown",
   "metadata": {},
   "source": [
    "![Grocery_2](Grocery_Convenient_Score.png);"
   ]
  },
  {
   "cell_type": "markdown",
   "metadata": {},
   "source": []
  }
 ],
 "metadata": {
  "language_info": {
   "name": "python"
  }
 },
 "nbformat": 4,
 "nbformat_minor": 2
}
