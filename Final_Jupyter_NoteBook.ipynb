{
 "cells": [
  {
   "cell_type": "markdown",
   "id": "6abcb758-5491-44b4-b46a-3c0b83181b58",
   "metadata": {},
   "source": [
    "# FINAL PROJECT NOTEBOOK - GROUP\n",
    "\n",
    "## Group Members: Brandon Hoover and Ertan Li\n",
    "#### Data Sets - CrimeData & 2020 Census Population + (insert) (insert)\n",
    "\n",
    "Links to Datasets: \n",
    "\n",
    "Arrest Data: https://data.wprdc.org/dataset/arrest-data/resource/e03a89dd-134a-4ee8-a2bd-62c40aeebc6f\n",
    "\n",
    "Neighborhood Population: https://data.wprdc.org/dataset/2020-census-redistricting-data-extracts/resource/a8414ed5-c50f-417e-bb67-82b734660da6\n",
    "\n",
    "(insert)\n",
    "\n",
    "(insert)\n",
    "\n",
    "## Introduction \n",
    "\n",
    "#### SubMetric - CrimeRate\n",
    "\n",
    "Theory: It is widely agreed that a neighborhood with a low crime rate is more favorable than a neighborhood with a high crime rate. Under that assumption when evalutating the best neighborhood we chose to incorporate the rate of crimes per capita for every neighborhood in Pittsburgh. To accomplish this goal we are using two datasets, Pittsburgh Arrest Data and 2020 Census Data to gather two pieces of information which are the number of arrests and total population of each neighborhood. \n",
    "\n",
    "The reason for requiring both pieces of information is that while for instance Southside might initally appear to have a higher Crimerate than Bloomfield, its relative to the amount of people living there since an increase in population enevitably leads to more arrests. So to balance the data we are going to be dividing the *number of arrests* by the *total population* of each respective neighborhood with the result being our submetric we are going to aptly named **CrimeRate**.\n",
    "\n",
    "\n",
    "#### SubMetric - Housing Data\n",
    "\n",
    "\n",
    "Ertan insert here \n",
    "\n",
    "\n",
    "#### SubMetric - Grocery Stores \n",
    "\n",
    "Ertan insert Theory here \n",
    "\n",
    "\n",
    "### Overall Metric: Neihborhood Quality (NQ)\n",
    "\n",
    "As we started gathering our data POINT system\n",
    "\n",
    "\n",
    "\n",
    "\n",
    "\n",
    "\n",
    "\n",
    "\n",
    "\n",
    "\n",
    "\n",
    "\n",
    "\n",
    "\n",
    "\n",
    "\n",
    "\n",
    "\n",
    "\n",
    "\n"
   ]
  },
  {
   "cell_type": "code",
   "execution_count": null,
   "id": "b8773cb8-c9bc-4694-86bf-ee65c5eeb4f6",
   "metadata": {},
   "outputs": [],
   "source": [
    "# Implementation for Crime Data \n",
    "\n"
   ]
  },
  {
   "cell_type": "markdown",
   "id": "1d030b37",
   "metadata": {},
   "source": [
    "## Conclusions\n",
    "\n",
    "\n",
    "Two paragraphs here "
   ]
  }
 ],
 "metadata": {
  "kernelspec": {
   "display_name": "Python 3 (ipykernel)",
   "language": "python",
   "name": "python3"
  },
  "language_info": {
   "codemirror_mode": {
    "name": "ipython",
    "version": 3
   },
   "file_extension": ".py",
   "mimetype": "text/x-python",
   "name": "python",
   "nbconvert_exporter": "python",
   "pygments_lexer": "ipython3",
   "version": "3.12.4"
  }
 },
 "nbformat": 4,
 "nbformat_minor": 5
}
